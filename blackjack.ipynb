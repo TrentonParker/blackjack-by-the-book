{
 "cells": [
  {
   "cell_type": "code",
   "execution_count": 1,
   "id": "c5c11439-60ca-4826-8c3d-10ec42d4aabf",
   "metadata": {},
   "outputs": [
    {
     "name": "stdin",
     "output_type": "stream",
     "text": [
      "Enter the dealer's face-up card (2-10, J, Q, K, A):  5\n",
      "Enter your first card (2-10, J, Q, K, A):  K\n",
      "Enter your second card (2-10, J, Q, K, A):  K\n"
     ]
    },
    {
     "name": "stdout",
     "output_type": "stream",
     "text": [
      "\n",
      "Pre-flop recommendation:\n",
      "Recommendation: Stand\n"
     ]
    },
    {
     "name": "stdin",
     "output_type": "stream",
     "text": [
      "\n",
      "Enter the dealer's hole card (2-10, J, Q, K, A):  6\n"
     ]
    },
    {
     "name": "stdout",
     "output_type": "stream",
     "text": [
      "\n",
      "You win!\n"
     ]
    }
   ],
   "source": [
    "def blackjack_recommendation():\n",
    "    def get_input(prompt):\n",
    "        while True:\n",
    "            try:\n",
    "                value = input(prompt).strip().upper()\n",
    "                if value.isdigit() or value in [\"A\", \"J\", \"Q\", \"K\"]:\n",
    "                    return value\n",
    "                else:\n",
    "                    print(\"Invalid input. Please enter a valid card (2-10, A, J, Q, K).\")\n",
    "            except ValueError:\n",
    "                print(\"Invalid input. Please try again.\")\n",
    "\n",
    "    def card_value(card):\n",
    "        if card in [\"J\", \"Q\", \"K\"]:\n",
    "            return 10\n",
    "        elif card == \"A\":\n",
    "            return 11  # Aces are treated as 11 initially.\n",
    "        else:\n",
    "            return int(card)\n",
    "\n",
    "    def is_blackjack(cards):\n",
    "        return len(cards) == 2 and sum(card_value(card) for card in cards) == 21\n",
    "\n",
    "    def is_soft_hand(cards):\n",
    "        return 11 in [card_value(card) for card in cards] and sum(card_value(card) for card in cards) > 21\n",
    "\n",
    "    def get_recommendation(player_hand, dealer_card, post_flop=False):\n",
    "        total = sum(card_value(card) for card in player_hand)\n",
    "        if is_soft_hand(player_hand):\n",
    "            total -= 10  # Adjust for a soft total.\n",
    "        dealer_value = card_value(dealer_card)\n",
    "\n",
    "        if len(player_hand) == 2 and player_hand[0] == player_hand[1]:\n",
    "            if card_value(player_hand[0]) == 8 or card_value(player_hand[0]) == 11:  # Split 8s and Aces.\n",
    "                return \"Split\"\n",
    "            if card_value(player_hand[0]) == 10:  # Don't split 10s.\n",
    "                return \"Stand\"\n",
    "        if len(player_hand) == 2 and total in [9, 10, 11]:\n",
    "            if total == 11 or (total == 10 and dealer_value <= 9) or (total == 9 and dealer_value <= 6):\n",
    "                return \"Double\"\n",
    "        if total >= 17:\n",
    "            return \"Stand\"\n",
    "        if total <= 11:\n",
    "            return \"Hit\"\n",
    "        if total in range(12, 17):\n",
    "            if dealer_value <= 6:\n",
    "                return \"Stand\"\n",
    "            else:\n",
    "                return \"Hit\"\n",
    "        return \"Hit\" if post_flop else \"Stand\"\n",
    "\n",
    "    # Initial dealer face-up card\n",
    "    dealer_up = get_input(\"Enter the dealer's face-up card (2-10, J, Q, K, A): \")\n",
    "\n",
    "    # Player's initial hand\n",
    "    player_hand = [\n",
    "        get_input(\"Enter your first card (2-10, J, Q, K, A): \"),\n",
    "        get_input(\"Enter your second card (2-10, J, Q, K, A): \"),\n",
    "    ]\n",
    "\n",
    "    # Check for player's blackjack\n",
    "    if is_blackjack(player_hand):\n",
    "        print(\"\\nYou win, Blackjack!\")\n",
    "        return\n",
    "\n",
    "    # Pre-flop recommendation\n",
    "    print(\"\\nPre-flop recommendation:\")\n",
    "    recommendation = get_recommendation(player_hand, dealer_up)\n",
    "    print(f\"Recommendation: {recommendation}\")\n",
    "\n",
    "    # Dealer's full hand post-flop\n",
    "    dealer_hole = get_input(\"\\nEnter the dealer's hole card (2-10, J, Q, K, A): \")\n",
    "    dealer_hand = [dealer_up, dealer_hole]\n",
    "\n",
    "    # Check for dealer blackjack\n",
    "    if is_blackjack(dealer_hand):\n",
    "        print(\"\\nDealer wins, Blackjack!\")\n",
    "        return\n",
    "\n",
    "    # Post-flop decision if the user hasn't stood\n",
    "    if recommendation not in [\"Stand\"]:\n",
    "        print(\"\\nPost-flop recommendation:\")\n",
    "        recommendation = get_recommendation(player_hand, dealer_hole, post_flop=True)\n",
    "        print(f\"Recommendation: {recommendation}\")\n",
    "\n",
    "    # Determine the final outcome\n",
    "    player_total = sum(card_value(card) for card in player_hand)\n",
    "    dealer_total = sum(card_value(card) for card in dealer_hand)\n",
    "\n",
    "    # Adjust for soft hands\n",
    "    if is_soft_hand(player_hand):\n",
    "        player_total -= 10\n",
    "    if is_soft_hand(dealer_hand):\n",
    "        dealer_total -= 10\n",
    "\n",
    "    if player_total > 21:\n",
    "        print(\"\\nYou busted! Dealer wins.\")\n",
    "    elif dealer_total > 21:\n",
    "        print(\"\\nDealer busted! You win!\")\n",
    "    elif player_total > dealer_total:\n",
    "        print(\"\\nYou win!\")\n",
    "    elif player_total < dealer_total:\n",
    "        print(\"Good luck!\")\n",
    "    else:\n",
    "        print(\"\\nPush! Maybe next time.\")\n",
    "\n",
    "if __name__ == \"__main__\":\n",
    "    blackjack_recommendation()\n"
   ]
  },
  {
   "cell_type": "code",
   "execution_count": null,
   "id": "b4c99424-040a-4806-b8e6-b57478a47104",
   "metadata": {},
   "outputs": [],
   "source": []
  },
  {
   "cell_type": "code",
   "execution_count": null,
   "id": "f59473a2-164e-4c9b-a8ab-b868083c2414",
   "metadata": {},
   "outputs": [],
   "source": []
  }
 ],
 "metadata": {
  "kernelspec": {
   "display_name": "Python 3 (ipykernel)",
   "language": "python",
   "name": "python3"
  },
  "language_info": {
   "codemirror_mode": {
    "name": "ipython",
    "version": 3
   },
   "file_extension": ".py",
   "mimetype": "text/x-python",
   "name": "python",
   "nbconvert_exporter": "python",
   "pygments_lexer": "ipython3",
   "version": "3.12.0"
  }
 },
 "nbformat": 4,
 "nbformat_minor": 5
}
